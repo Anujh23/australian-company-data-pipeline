{
 "cells": [
  {
   "cell_type": "code",
   "execution_count": null,
   "id": "7ecad5d6",
   "metadata": {},
   "outputs": [],
   "source": [
    "from pyspark.sql import SparkSession\n",
    "from pyspark.sql.functions import udf, col, lower, trim\n",
    "from pyspark.sql.types import StringType\n",
    "import re\n",
    "\n",
    "# Step 1: Initialize Spark Session\n",
    "spark = SparkSession.builder \\\n",
    "    .appName(\"CompanyNameJoin\") \\\n",
    "    .getOrCreate()\n",
    "\n",
    "# Step 2: Load CSV files\n",
    "abn_df = spark.read.option(\"header\", \"true\").csv(\"abn_data.csv\")\n",
    "web_df = spark.read.option(\"header\", \"true\").csv(\"common_crawl.csv\")\n",
    "\n",
    "# Step 3: Define UDF to extract domain name (company-like) from URL\n",
    "def extract_company_name(url):\n",
    "    try:\n",
    "        match = re.search(r'^(?:https?://)?(?:www\\.)?([^./]+)', url)\n",
    "        return match.group(1).lower() if match else None\n",
    "    except:\n",
    "        return None\n",
    "\n",
    "extract_company_name_udf = udf(extract_company_name, StringType())\n",
    "\n",
    "# Step 4: Apply UDF and normalize fields\n",
    "web_df = web_df.withColumn(\"extracted_company_name\", extract_company_name_udf(col(\"url\")))\n",
    "abn_df = abn_df.withColumn(\"normalized_entity_name\", lower(trim(col(\"Entity Name\"))))\n",
    "\n",
    "# Step 5: Join on normalized company name\n",
    "joined_df = abn_df.join(\n",
    "    web_df,\n",
    "    abn_df[\"normalized_entity_name\"] == web_df[\"extracted_company_name\"],\n",
    "    \"inner\"\n",
    ")\n",
    "\n",
    "# Step 6: Show joined data\n",
    "joined_df.select(\n",
    "    \"ABN\", \"Entity Name\", \"Entity Type\", \"Entity Status\",\n",
    "    \"url\", \"company_name\", \"industry\", \"Entity State\"\n",
    ").show(truncate=False)\n",
    "\n",
    "# Optional: Save output\n",
    "joined_df.write.mode(\"overwrite\").csv(\"output.csv\", header=True)\n"
   ]
  }
 ],
 "metadata": {
  "language_info": {
   "name": "python"
  }
 },
 "nbformat": 4,
 "nbformat_minor": 5
}
